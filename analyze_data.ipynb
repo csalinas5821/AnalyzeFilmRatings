{
 "cells": [
  {
   "cell_type": "markdown",
   "metadata": {},
   "source": [
    "Load the data from the cleaned files"
   ]
  },
  {
   "cell_type": "code",
   "execution_count": 3,
   "metadata": {},
   "outputs": [],
   "source": [
    "import pandas as pd\n",
    "import matplotlib as mpl\n",
    "import seaborn as sb"
   ]
  },
  {
   "cell_type": "markdown",
   "metadata": {},
   "source": [
    "### Data Analysis:\n",
    "\n",
    "- Find the most popular movies based on average ratings\n",
    "\n",
    "- Identify trends in ratings over time\n",
    "\n",
    "- Analyze the distribution of ratings\n",
    "\n",
    "- Identify which genres tend to receive higher ratings.\n",
    "\n",
    "Load in cleaned data."
   ]
  },
  {
   "cell_type": "code",
   "execution_count": 4,
   "metadata": {},
   "outputs": [],
   "source": [
    "movies = pd.read_csv(\"cleaned_data/cleaned_movies.csv\")\n",
    "ratings = pd.read_csv(\"cleaned_data/cleaned_ratings.csv\")\n",
    "tags = pd.read_csv(\"cleaned_data/cleaned_tags.csv\")"
   ]
  },
  {
   "cell_type": "markdown",
   "metadata": {},
   "source": [
    "Lets start with finding the most popular movies based on average ratings.\n",
    "\n",
    "Have to find the average ratings for each movie."
   ]
  }
 ],
 "metadata": {
  "kernelspec": {
   "display_name": "vscode",
   "language": "python",
   "name": "python3"
  },
  "language_info": {
   "codemirror_mode": {
    "name": "ipython",
    "version": 3
   },
   "file_extension": ".py",
   "mimetype": "text/x-python",
   "name": "python",
   "nbconvert_exporter": "python",
   "pygments_lexer": "ipython3",
   "version": "3.11.5"
  }
 },
 "nbformat": 4,
 "nbformat_minor": 2
}
