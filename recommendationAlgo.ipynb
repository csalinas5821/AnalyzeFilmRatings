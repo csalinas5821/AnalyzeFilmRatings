{
 "cells": [
  {
   "cell_type": "markdown",
   "metadata": {},
   "source": [
    "### Film Recommendation Algorithm\n",
    "\n",
    "I want to create a content-based filtering algorithm that recommends items similar to those that is requested based on genre or decade and year.\n",
    "\n",
    "First I need to learn how to do this lol. Time for some studying, perhaps a youtube video or a book about Machine Learning. Will return at a later date to finish this."
   ]
  }
 ],
 "metadata": {
  "kernelspec": {
   "display_name": "vscode",
   "language": "python",
   "name": "python3"
  },
  "language_info": {
   "name": "python",
   "version": "3.11.5"
  }
 },
 "nbformat": 4,
 "nbformat_minor": 2
}
